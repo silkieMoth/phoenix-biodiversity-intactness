{
 "cells": [
  {
   "cell_type": "code",
   "execution_count": 1,
   "id": "7bafe9d7-7272-448f-813c-b3bbc9d73ca2",
   "metadata": {
    "tags": []
   },
   "outputs": [],
   "source": [
    "import numpy as np\n",
    "import matplotlib.pyplot as plt\n",
    "import geopandas as gpd\n",
    "import rioxarray as rioxr\n",
    "import os\n",
    "import contextily as cx\n",
    "from shapely.geometry import Polygon, mapping\n",
    "#from shapely.geometry import mapping\n",
    "import rasterio\n",
    "import rasterio.mask\n",
    "from shapely.ops import unary_union\n",
    "import salem\n",
    "from mpl_toolkits.basemap import Basemap\n",
    "#import earthpy.spatial as es\n",
    "\n",
    "from pystac_client import Client  # To access STAC catalogs\n",
    "\n",
    "import planetary_computer  # To sign items from the MPC STAC catalog \n",
    "\n",
    "from IPython.display import Image  # To nicely display images\n",
    "\n",
    "root = os.path.join('/', 'Users', 'jpcohen', 'EDS-220', 'thomas-fire-aftermath-and-BII')\n",
    "\n",
    "az_fp = os.path.join(root, 'data', 'tl_2021_04_cousub', 'tl_2021_04_cousub.shp')\n",
    "\n",
    "az = gpd.read_file(az_fp)\n",
    "\n",
    "phoenix = az[az['NAME'] == 'Phoenix']"
   ]
  }
 ],
 "metadata": {
  "kernelspec": {
   "display_name": "Python 3 (ipykernel)",
   "language": "python",
   "name": "python3"
  },
  "language_info": {
   "codemirror_mode": {
    "name": "ipython",
    "version": 3
   },
   "file_extension": ".py",
   "mimetype": "text/x-python",
   "name": "python",
   "nbconvert_exporter": "python",
   "pygments_lexer": "ipython3",
   "version": "3.7.13"
  }
 },
 "nbformat": 4,
 "nbformat_minor": 5
}
